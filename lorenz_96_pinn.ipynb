{
 "cells": [
  {
   "cell_type": "markdown",
   "id": "095f22bd",
   "metadata": {},
   "source": [
    "## Physics-Informed Neural Network for Lorenz 96 System\n",
    "This notebook demonstrates how to build a Physics-Informed Neural Network (PINN) for the Lorenz 96 system, combining physics-based modeling with data-driven learning."
   ]
  },
  {
   "cell_type": "markdown",
   "id": "5ab5f506",
   "metadata": {},
   "source": [
    "### Step 1: Define the Physics Constraints\n",
    "We start by expressing the Lorenz 96 system as a set of ordinary differential equations (ODEs)."
   ]
  },
  {
   "cell_type": "code",
   "execution_count": 2,
   "id": "b96c1271",
   "metadata": {},
   "outputs": [],
   "source": [
    "import numpy as np\n",
    "\n",
    "def lorenz_96_derivatives(x, F=8):\n",
    "    N = len(x)\n",
    "    dxdt = np.zeros(N)\n",
    "    for i in range(N):\n",
    "        dxdt[i] = (x[(i + 1) % N] - x[i - 2]) * x[i - 1] - x[i] + F\n",
    "    return dxdt"
   ]
  },
  {
   "cell_type": "markdown",
   "id": "fcbd4705",
   "metadata": {},
   "source": [
    "### Step 2: Design the Neural Network Architecture\n",
    "Next, we create a neural network using TensorFlow to predict the derivatives of the Lorenz 96 system."
   ]
  },
  {
   "cell_type": "code",
   "execution_count": 3,
   "id": "2904999d",
   "metadata": {},
   "outputs": [
    {
     "name": "stdout",
     "output_type": "stream",
     "text": [
      "Model: \"sequential\"\n",
      "_________________________________________________________________\n",
      " Layer (type)                Output Shape              Param #   \n",
      "=================================================================\n",
      " dense (Dense)               (None, 64)                384       \n",
      "                                                                 \n",
      " dense_1 (Dense)             (None, 64)                4160      \n",
      "                                                                 \n",
      " dense_2 (Dense)             (None, 5)                 325       \n",
      "                                                                 \n",
      "=================================================================\n",
      "Total params: 4869 (19.02 KB)\n",
      "Trainable params: 4869 (19.02 KB)\n",
      "Non-trainable params: 0 (0.00 Byte)\n",
      "_________________________________________________________________\n"
     ]
    }
   ],
   "source": [
    "import tensorflow as tf\n",
    "\n",
    "N = 5\n",
    "\n",
    "model = tf.keras.Sequential([\n",
    "    tf.keras.layers.Input(shape=(N,)),\n",
    "    tf.keras.layers.Dense(64, activation='relu'),\n",
    "    tf.keras.layers.Dense(64, activation='relu'),\n",
    "    tf.keras.layers.Dense(N)\n",
    "])\n",
    "\n",
    "model.compile(optimizer='adam', loss='mse')\n",
    "model.summary()"
   ]
  },
  {
   "cell_type": "markdown",
   "id": "4ccf0129",
   "metadata": {},
   "source": [
    "### Step 3: Embed Physics Constraints as Loss Terms\n",
    "We embed the physics constraints of the Lorenz 96 system as loss terms in the neural network."
   ]
  },
  {
   "cell_type": "code",
   "execution_count": 4,
   "id": "d1cb381c",
   "metadata": {},
   "outputs": [
    {
     "name": "stdout",
     "output_type": "stream",
     "text": [
      "Model: \"sequential\"\n",
      "_________________________________________________________________\n",
      " Layer (type)                Output Shape              Param #   \n",
      "=================================================================\n",
      " dense (Dense)               (None, 64)                384       \n",
      "                                                                 \n",
      " dense_1 (Dense)             (None, 64)                4160      \n",
      "                                                                 \n",
      " dense_2 (Dense)             (None, 5)                 325       \n",
      "                                                                 \n",
      "=================================================================\n",
      "Total params: 4869 (19.02 KB)\n",
      "Trainable params: 4869 (19.02 KB)\n",
      "Non-trainable params: 0 (0.00 Byte)\n",
      "_________________________________________________________________\n"
     ]
    }
   ],
   "source": [
    "def physics_loss(y_true, y_pred):\n",
    "    predicted_derivatives = lorenz_96_derivatives(y_pred)\n",
    "    return tf.reduce_mean(tf.square(predicted_derivatives - y_true))\n",
    "\n",
    "def combined_loss(y_true, y_pred):\n",
    "    mse_loss = tf.reduce_mean(tf.square(y_pred - y_true))\n",
    "    return mse_loss + physics_loss(y_true, y_pred)\n",
    "\n",
    "model.compile(optimizer='adam', loss=combined_loss)\n",
    "model.summary()"
   ]
  },
  {
   "cell_type": "markdown",
   "id": "bc079855",
   "metadata": {},
   "source": [
    "### Step 4: Generate Training Data\n",
    "We simulate the Lorenz 96 system to generate training data for the neural network."
   ]
  },
  {
   "cell_type": "code",
   "execution_count": 5,
   "id": "d74b168a",
   "metadata": {},
   "outputs": [],
   "source": [
    "from scipy.integrate import odeint\n",
    "\n",
    "F = 8\n",
    "\n",
    "def L96(x, t):\n",
    "    return lorenz_96_derivatives(x, F)\n",
    "\n",
    "x0 = F * np.ones(N)\n",
    "x0[0] += 0.01\n",
    "t = np.arange(0.0, 30.0, 0.01)\n",
    "x = odeint(L96, x0, t)\n",
    "dxdt = np.array([L96(xi, 0) for xi in x])\n",
    "\n",
    "X_train = x\n",
    "y_train = dxdt"
   ]
  },
  {
   "cell_type": "markdown",
   "id": "218a5b59",
   "metadata": {},
   "source": [
    "### Step 5: Train the Neural Network\n",
    "We train the neural network using the training data, and the model learns how the Lorenz 96 system behaves."
   ]
  },
  {
   "cell_type": "code",
   "execution_count": null,
   "id": "8c7c8cbe",
   "metadata": {},
   "outputs": [],
   "source": [
    "model.fit(X_train, y_train, epochs=1000, batch_size=32)"
   ]
  },
  {
   "cell_type": "markdown",
   "id": "6aaf1d0c",
   "metadata": {},
   "source": [
    "### Step 6: Evaluate and Use the Hybrid Model\n",
    "Finally, we validate and utilize the trained PINN for various tasks such as forecasting or analysis."
   ]
  }
 ],
 "metadata": {
  "kernelspec": {
   "display_name": "Python 3",
   "language": "python",
   "name": "python3"
  },
  "language_info": {
   "codemirror_mode": {
    "name": "ipython",
    "version": 3
   },
   "file_extension": ".py",
   "mimetype": "text/x-python",
   "name": "python",
   "nbconvert_exporter": "python",
   "pygments_lexer": "ipython3",
   "version": "3.11.4"
  }
 },
 "nbformat": 4,
 "nbformat_minor": 5
}
