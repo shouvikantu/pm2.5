{
 "cells": [
  {
   "cell_type": "code",
   "execution_count": 7,
   "metadata": {},
   "outputs": [],
   "source": [
    "import numpy as np \n",
    "import tensorflow as tf\n",
    "import tensorflow as tf\n",
    "import tensorflow.keras as keras\n",
    "from scipy.integrate import odeint"
   ]
  },
  {
   "cell_type": "code",
   "execution_count": 8,
   "metadata": {},
   "outputs": [],
   "source": [
    "# Lorenz 96 differential equations \n",
    "def lorenz96_derivatives(x, F=8):\n",
    "  N = len(x)\n",
    "  dxdt = np.zeros(N)\n",
    "  \n",
    "  for i in range(N):\n",
    "    # Compute derivative for each state\n",
    "    dxdt[i] = (x[(i + 1) % N] - x[i - 2]) * x[i - 1] - x[i] + F\n",
    "  \n",
    "  return dxdt"
   ]
  },
  {
   "cell_type": "code",
   "execution_count": 9,
   "metadata": {},
   "outputs": [],
   "source": [
    "# Generate training data\n",
    "F = 8 \n",
    "N = 5\n",
    "x0_train = F * np.ones(N)\n",
    "x0_train[0] += 0.01  \n",
    "\n",
    "t_train = np.arange(0.0, 20.0, 0.01)\n",
    "x_train = odeint(lorenz96_derivatives, x0_train, t_train)\n",
    "\n"
   ]
  },
  {
   "cell_type": "code",
   "execution_count": 11,
   "metadata": {},
   "outputs": [],
   "source": [
    "# Generate test data\n",
    "x0_test = F * np.ones(N)\n",
    "x0_test[0] += 0.02\n",
    "\n",
    "t_test = np.arange(0.0, 30.0, 0.01)\n",
    "x_test = odeint(lorenz96_derivatives, x0_test, t_test)\n",
    "\n",
    "dxdt_test = np.array([lorenz96_derivatives(xi, 0) for xi in x_test])\n",
    "\n",
    "X_test = x_test[:-1]  \n",
    "y_test = x_test[1:] - x_test[:-1]"
   ]
  },
  {
   "cell_type": "code",
   "execution_count": 12,
   "metadata": {},
   "outputs": [
    {
     "ename": "AttributeError",
     "evalue": "module 'tensorflow.keras.layers' has no attribute 'ESNCell'",
     "output_type": "error",
     "traceback": [
      "\u001b[1;31m---------------------------------------------------------------------------\u001b[0m",
      "\u001b[1;31mAttributeError\u001b[0m                            Traceback (most recent call last)",
      "Cell \u001b[1;32mIn[12], line 1\u001b[0m\n\u001b[1;32m----> 1\u001b[0m esn \u001b[39m=\u001b[39m keras\u001b[39m.\u001b[39;49mlayers\u001b[39m.\u001b[39;49mESNCell(num_units\u001b[39m=\u001b[39m\u001b[39m100\u001b[39m)\n",
      "\u001b[1;31mAttributeError\u001b[0m: module 'tensorflow.keras.layers' has no attribute 'ESNCell'"
     ]
    }
   ],
   "source": [
    "esn = keras.layers.ESNCell(num_units=100)"
   ]
  },
  {
   "cell_type": "code",
   "execution_count": null,
   "metadata": {},
   "outputs": [],
   "source": []
  }
 ],
 "metadata": {
  "kernelspec": {
   "display_name": "Python 3",
   "language": "python",
   "name": "python3"
  },
  "language_info": {
   "codemirror_mode": {
    "name": "ipython",
    "version": 3
   },
   "file_extension": ".py",
   "mimetype": "text/x-python",
   "name": "python",
   "nbconvert_exporter": "python",
   "pygments_lexer": "ipython3",
   "version": "3.11.4"
  },
  "orig_nbformat": 4
 },
 "nbformat": 4,
 "nbformat_minor": 2
}
