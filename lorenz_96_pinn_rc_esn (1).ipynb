{
 "cells": [
  {
   "cell_type": "markdown",
   "id": "095f22bd",
   "metadata": {},
   "source": [
    "## Physics-Informed Neural Network for Lorenz 96 System\n",
    "This notebook demonstrates how to build a Physics-Informed Neural Network (PINN) for the Lorenz 96 system, combining physics-based modeling with data-driven learning."
   ]
  },
  {
   "cell_type": "code",
   "execution_count": 12,
   "id": "5c999781",
   "metadata": {},
   "outputs": [],
   "source": [
    "\n",
    "import numpy as np\n",
    "\n",
    "class RC_ESN:\n",
    "    def __init__(self, input_dim, reservoir_size, output_dim, spectral_radius=0.95, sparsity=0.1):\n",
    "        self.W_res = np.random.rand(reservoir_size, reservoir_size) - 0.5\n",
    "        eigenvalues = np.linalg.eigvals(self.W_res)\n",
    "        self.W_res *= spectral_radius / max(abs(eigenvalues))\n",
    "        self.W_in = np.random.rand(reservoir_size, input_dim) * 2 - 1\n",
    "        mask = np.random.rand(reservoir_size, reservoir_size) > sparsity\n",
    "        self.W_res[mask] = 0\n",
    "        self.reservoir_size = reservoir_size\n",
    "        self.input_dim = input_dim\n",
    "        self.output_dim = output_dim\n",
    "        self.state = np.zeros(reservoir_size)\n",
    "        self.W_out = None\n",
    "\n",
    "    def _update(self, input_data):\n",
    "        self.state = np.tanh(np.dot(self.W_in, input_data) + np.dot(self.W_res, self.state))\n",
    "        return self.state\n",
    "\n",
    "    def fit(self, X, y, reg_coef=1e-6):\n",
    "        N = len(X)\n",
    "        design_matrix = np.zeros((N, self.reservoir_size))\n",
    "        for i in range(N):\n",
    "            design_matrix[i] = self._update(X[i])\n",
    "        self.W_out = np.dot(np.linalg.inv(np.dot(design_matrix.T, design_matrix) + \n",
    "                                          reg_coef * np.eye(self.reservoir_size)), \n",
    "                            np.dot(design_matrix.T, y))\n",
    "\n",
    "    def predict(self, X):\n",
    "        N = len(X)\n",
    "        output = np.zeros((N, self.output_dim))\n",
    "        for i in range(N):\n",
    "            reservoir_state = self._update(X[i])\n",
    "            output[i] = np.dot(self.W_out.T, reservoir_state)\n",
    "        return output\n"
   ]
  },
  {
   "cell_type": "markdown",
   "id": "5ab5f506",
   "metadata": {},
   "source": [
    "### Step 1: Define the Physics Constraints\n",
    "We start by expressing the Lorenz 96 system as a set of ordinary differential equations (ODEs)."
   ]
  },
  {
   "cell_type": "code",
   "execution_count": 13,
   "id": "b96c1271",
   "metadata": {},
   "outputs": [],
   "source": [
    "import numpy as np\n",
    "import tensorflow as tf\n",
    "\n",
    "def lorenz_96_derivatives_tf(x, F=8):\n",
    "    N = tf.shape(x)[0]\n",
    "    dxdt = tf.zeros_like(x)\n",
    "    for i in range(N):\n",
    "        dxdt_i = (x[(i + 1) % N] - x[i - 2]) * x[i - 1] - x[i] + F\n",
    "        dxdt = tf.tensor_scatter_nd_update(dxdt, [[i]], [dxdt_i])\n",
    "    return dxdt\n"
   ]
  },
  {
   "cell_type": "markdown",
   "id": "fcbd4705",
   "metadata": {},
   "source": [
    "### Step 2: Design the Neural Network Architecture\n",
    "Next, we create a neural network using TensorFlow to predict the derivatives of the Lorenz 96 system."
   ]
  },
  {
   "cell_type": "code",
   "execution_count": 14,
   "id": "33962ca5",
   "metadata": {},
   "outputs": [
    {
     "name": "stdout",
     "output_type": "stream",
     "text": [
      "Model: \"sequential_1\"\n",
      "_________________________________________________________________\n",
      " Layer (type)                Output Shape              Param #   \n",
      "=================================================================\n",
      " dense_3 (Dense)             (None, 64)                384       \n",
      "                                                                 \n",
      " dense_4 (Dense)             (None, 64)                4160      \n",
      "                                                                 \n",
      " dense_5 (Dense)             (None, 5)                 325       \n",
      "                                                                 \n",
      "=================================================================\n",
      "Total params: 4869 (19.02 KB)\n",
      "Trainable params: 4869 (19.02 KB)\n",
      "Non-trainable params: 0 (0.00 Byte)\n",
      "_________________________________________________________________\n"
     ]
    }
   ],
   "source": [
    "\n",
    "\n",
    "N = 5\n",
    "\n",
    "model = tf.keras.Sequential([\n",
    "    tf.keras.layers.Input(shape=(N,)),\n",
    "    tf.keras.layers.Dense(64, activation='relu'),\n",
    "    tf.keras.layers.Dense(64, activation='relu'),\n",
    "    tf.keras.layers.Dense(N)\n",
    "])\n",
    "\n",
    "model.compile(optimizer='adam', loss='mse')\n",
    "model.summary()"
   ]
  },
  {
   "cell_type": "code",
   "execution_count": 15,
   "id": "2904999d",
   "metadata": {},
   "outputs": [],
   "source": [
    "esn = RC_ESN(input_dim=N, reservoir_size=100, output_dim=N)"
   ]
  },
  {
   "cell_type": "markdown",
   "id": "4ccf0129",
   "metadata": {},
   "source": [
    "### Step 3: Embed Physics Constraints as Loss Terms\n",
    "We embed the physics constraints of the Lorenz 96 system as loss terms in the neural network."
   ]
  },
  {
   "cell_type": "code",
   "execution_count": 16,
   "id": "d1cb381c",
   "metadata": {},
   "outputs": [
    {
     "name": "stdout",
     "output_type": "stream",
     "text": [
      "Model: \"sequential_1\"\n",
      "_________________________________________________________________\n",
      " Layer (type)                Output Shape              Param #   \n",
      "=================================================================\n",
      " dense_3 (Dense)             (None, 64)                384       \n",
      "                                                                 \n",
      " dense_4 (Dense)             (None, 64)                4160      \n",
      "                                                                 \n",
      " dense_5 (Dense)             (None, 5)                 325       \n",
      "                                                                 \n",
      "=================================================================\n",
      "Total params: 4869 (19.02 KB)\n",
      "Trainable params: 4869 (19.02 KB)\n",
      "Non-trainable params: 0 (0.00 Byte)\n",
      "_________________________________________________________________\n"
     ]
    }
   ],
   "source": [
    "def physics_loss(y_true, y_pred):\n",
    "    predicted_derivatives = lorenz_96_derivatives_tf(y_pred)\n",
    "    return tf.reduce_mean(tf.square(predicted_derivatives - y_true))\n",
    "\n",
    "def combined_loss(y_true, y_pred):\n",
    "    mse_loss = tf.reduce_mean(tf.square(y_pred - y_true))\n",
    "    return mse_loss + physics_loss(y_true, y_pred)\n",
    "\n",
    "model.compile(optimizer='adam', loss=combined_loss)\n",
    "model.summary()"
   ]
  },
  {
   "cell_type": "markdown",
   "id": "bc079855",
   "metadata": {},
   "source": [
    "### Step 4: Generate Training Data\n",
    "We simulate the Lorenz 96 system to generate training data for the neural network."
   ]
  },
  {
   "cell_type": "code",
   "execution_count": 17,
   "id": "d74b168a",
   "metadata": {},
   "outputs": [],
   "source": [
    "from scipy.integrate import odeint\n",
    "\n",
    "F = 8\n",
    "\n",
    "def L96(x, t):\n",
    "    return lorenz_96_derivatives_tf(x, F)\n",
    "\n",
    "x0 = F * np.ones(N)\n",
    "x0[0] += 0.01\n",
    "t = np.arange(0.0, 30.0, 0.01)\n",
    "x = odeint(L96, x0, t)\n",
    "dxdt = np.array([L96(xi, 0) for xi in x])\n",
    "\n",
    "X_train = x\n",
    "y_train = dxdt"
   ]
  },
  {
   "cell_type": "markdown",
   "id": "218a5b59",
   "metadata": {},
   "source": [
    "### Step 5: Train the Neural Network\n",
    "We train the neural network using the training data, and the model learns how the Lorenz 96 system behaves."
   ]
  },
  {
   "cell_type": "code",
   "execution_count": 18,
   "id": "8c7c8cbe",
   "metadata": {},
   "outputs": [],
   "source": [
    "\n",
    "X_train = x[:-1]\n",
    "y_train = x[1:] - x[:-1]\n",
    "esn.fit(X_train, y_train)\n"
   ]
  },
  {
   "cell_type": "markdown",
   "id": "6aaf1d0c",
   "metadata": {},
   "source": [
    "### Step 6: Evaluate and Use the Hybrid Model\n",
    "Finally, we validate and utilize the trained PINN for various tasks such as forecasting or analysis."
   ]
  },
  {
   "cell_type": "code",
   "execution_count": 19,
   "id": "bc9edbcc",
   "metadata": {},
   "outputs": [],
   "source": [
    "# Initial state for test data\n",
    "x0_test = F * np.ones(N)\n",
    "x0_test[0] += 0.02  # Slightly different initial condition\n",
    "\n",
    "# Time points for test data\n",
    "t_test = np.arange(0.0, 30.0, 0.01)\n",
    "\n",
    "# Solve the differential equations for test data\n",
    "x_test = odeint(lorenz_96_derivatives_tf, x0_test, t_test)\n",
    "\n",
    "# Compute the derivatives for test data\n",
    "dxdt_test = np.array([lorenz_96_derivatives_tf(xi, 0) for xi in x_test])\n",
    "\n",
    "# Test data\n",
    "X_test = x_test\n",
    "y_test = dxdt_test\n"
   ]
  },
  {
   "cell_type": "code",
   "execution_count": 20,
   "id": "6fb15538",
   "metadata": {},
   "outputs": [
    {
     "name": "stdout",
     "output_type": "stream",
     "text": [
      "94/94 [==============================] - 1s 3ms/step - loss: 14297.6943\n",
      "Test Loss: 14297.6943359375\n"
     ]
    }
   ],
   "source": [
    "test_loss = model.evaluate(X_test, y_test)\n",
    "print(\"Test Loss:\", test_loss)\n"
   ]
  },
  {
   "cell_type": "code",
   "execution_count": 21,
   "id": "0331ac8b",
   "metadata": {},
   "outputs": [],
   "source": [
    "predictions = esn.predict(X_test)"
   ]
  },
  {
   "cell_type": "code",
   "execution_count": null,
   "id": "453432ab",
   "metadata": {},
   "outputs": [],
   "source": []
  }
 ],
 "metadata": {
  "kernelspec": {
   "display_name": "Python 3",
   "language": "python",
   "name": "python3"
  },
  "language_info": {
   "codemirror_mode": {
    "name": "ipython",
    "version": 3
   },
   "file_extension": ".py",
   "mimetype": "text/x-python",
   "name": "python",
   "nbconvert_exporter": "python",
   "pygments_lexer": "ipython3",
   "version": "3.11.4"
  }
 },
 "nbformat": 4,
 "nbformat_minor": 5
}
